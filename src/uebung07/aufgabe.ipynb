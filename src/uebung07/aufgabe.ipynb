{
 "cells": [
  {
   "cell_type": "markdown",
   "source": [
    "# Aufgabe 1:"
   ],
   "metadata": {
    "collapsed": false
   }
  },
  {
   "cell_type": "code",
   "execution_count": null,
   "outputs": [],
   "source": [
    "from Blatt07_lib import *\n",
    "import matplotlib.pyplot as plt\n",
    "\n",
    "def cg(a, b, x_0):\n",
    "    res = []\n",
    "    x = x_0\n",
    "    p = r_0 = r = b - a.dot(x_0)\n",
    "    res.append(np.linalg.norm(r) / np.linalg.norm(r_0))\n",
    "    while np.linalg.norm(r) / np.linalg.norm(r_0) > 1e-6:\n",
    "        alpha = r.dot(r) / p.dot(a.dot(p))\n",
    "        r_ = r - alpha * a.dot(p)\n",
    "        beta = r_.dot(r_) / r.dot(r)\n",
    "        r = r_\n",
    "        p = r_ + beta * p\n",
    "        x += alpha * p\n",
    "        res.append(np.linalg.norm(r) / np.linalg.norm(r_0))\n",
    "    return (x, res)\n",
    "\n",
    "\n",
    "for m in (50, 100, 200):\n",
    "    a, b = system(m)\n",
    "    x, res = cg(a, b, b)\n",
    "    plt.semilogy(range(len(res)), res, label=f'm={m}')\n",
    "\n",
    "plt.xlabel('Iterationen')\n",
    "plt.ylabel('$||r_k||_2 / ||r_0||_2$')\n",
    "plt.legend()\n",
    "plt.tight_layout()\n",
    "plt.show()"
   ],
   "metadata": {
    "collapsed": false
   }
  },
  {
   "cell_type": "markdown",
   "source": [
    "# AUFGABE: 3"
   ],
   "metadata": {
    "collapsed": false
   }
  },
  {
   "cell_type": "code",
   "execution_count": 17,
   "outputs": [
    {
     "name": "stdout",
     "output_type": "stream",
     "text": [
      "98.06763317710936\n",
      "19.662277480954643\n",
      "8.889119693276559\n",
      "3.662335962319832\n",
      "3.640116255145995\n",
      "1.2902558116361322\n",
      "1.135306217236295\n",
      "0.14865402017567309\n",
      "0.06182326427778409\n",
      "0.051442003217889276\n",
      "0.03458941840096338\n",
      "0.02695045253512334\n",
      "0.012344167605100919\n",
      "0.009708040255721636\n",
      "0.009236757084528341\n",
      "0.008424105495162948\n",
      "0.00710868608440526\n",
      "0.005014569985925964\n",
      "0.004962804689873381\n",
      "0.0032279129015971974\n",
      "0.0013678938143218654\n",
      "0.0011878730208602882\n"
     ]
    },
    {
     "data": {
      "text/plain": "<Figure size 640x480 with 1 Axes>",
      "image/png": "[encoded data removed]"
     },
     "metadata": {},
     "output_type": "display_data"
    }
   ],
   "source": [
    "from Blatt07_lib import *\n",
    "import matplotlib.pyplot as plt\n",
    "import scipy.sparse\n",
    "import scipy.sparse.linalg\n",
    "import math\n",
    "\n",
    "def sign(x):\n",
    "    return -1 if x < 0 else 1\n",
    "\n",
    "\n",
    "def square_sum_of_subdiagonal(a):\n",
    "    a_ = abs(a.copy())\n",
    "    np.fill_diagonal(a_, 0)\n",
    "    return np.sum(a_**2)\n",
    "\n",
    "\n",
    "def largest_not_diagonal(a, n):\n",
    "    a_ = abs(a.copy())\n",
    "    np.fill_diagonal(a_, 0)\n",
    "    mx = np.argmax(a_)\n",
    "    i = mx // n\n",
    "    j = mx % n\n",
    "    return i, j\n",
    "\n",
    "\n",
    "def jacobi_ew(a, sorted=True):\n",
    "    n = a.shape[0]\n",
    "    assert(a.shape == (n, n))\n",
    "    Q = np.eye(n, n)\n",
    "    i=0\n",
    "    while (square_sum_of_subdiagonal(a) > 1e-3):\n",
    "        i += 1\n",
    "        if i % 100 == 0:\n",
    "            print(square_sum_of_subdiagonal(a))\n",
    "        i, j = largest_not_diagonal(a, n)\n",
    "        q = scipy.sparse.eye(n, format='lil')\n",
    "        alpha = (a[j, j] - a[i, i]) / (2 * a[i, j])\n",
    "        c = math.sqrt(0.5 + 0.5 * math.sqrt((alpha**2)/(1+alpha**2)))\n",
    "        s = sign(alpha) / (2 * c * math.sqrt(1+alpha**2))\n",
    "        q[j, j] = q[i, i] = c\n",
    "        q[i, j] = s\n",
    "        q[j, i] = -s\n",
    "        a = q.T @ a @ q\n",
    "        # Q = q @ Q\n",
    "    ew = np.diag(a)\n",
    "    if sorted:\n",
    "        ind = np.argsort(ew)\n",
    "        ew = ew[ind]\n",
    "        Q = Q[:, ind]\n",
    "    return ew, Q\n",
    "\n",
    "\n",
    "m = 10\n",
    "n = m**2\n",
    "A = Ablock(m)\n",
    "ew_jac, Q = jacobi_ew(A)\n",
    "\n",
    "\n",
    "ew_ex = ew_exakt(m)\n",
    "\n",
    "# Vergleichen von Eigenwerten\n",
    "plt.semilogy(ew_jac[::-1], 'r.', label='Jacobi')\n",
    "plt.semilogy(ew_ex, 'b.', label='Exakt')\n",
    "plt.legend()\n",
    "plt.show()\n"
   ],
   "metadata": {
    "collapsed": false
   }
  },
  {
   "cell_type": "code",
   "execution_count": null,
   "outputs": [],
   "source": [],
   "metadata": {
    "collapsed": false
   }
  }
 ],
 "metadata": {
  "kernelspec": {
   "display_name": "Python 3",
   "language": "python",
   "name": "python3"
  },
  "language_info": {
   "codemirror_mode": {
    "name": "ipython",
    "version": 2
   },
   "file_extension": ".py",
   "mimetype": "text/x-python",
   "name": "python",
   "nbconvert_exporter": "python",
   "pygments_lexer": "ipython2",
   "version": "2.7.6"
  }
 },
 "nbformat": 4,
 "nbformat_minor": 0
}
