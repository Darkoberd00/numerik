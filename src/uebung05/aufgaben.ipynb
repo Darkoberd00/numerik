{
 "cells": [
  {
   "cell_type": "code",
   "execution_count": 5,
   "metadata": {
    "collapsed": true,
    "ExecuteTime": {
     "start_time": "2023-05-03T09:10:15.932615Z",
     "end_time": "2023-05-03T09:10:16.734359Z"
    }
   },
   "outputs": [
    {
     "name": "stdout",
     "output_type": "stream",
     "text": [
      "n = 10 : \n",
      "[ 1.1681971  -4.17735008 -4.76286007 -2.08058775  0.46135756  1.50728226\n",
      "  1.57983729  1.10484438 -0.34660871  5.37736455]\n",
      "\n",
      " n = 50 : \n",
      "[ -5.54313483 -26.22074335 -41.71386168 -48.82778533 -46.28258448\n",
      " -35.62811797 -20.834845    -6.56380625   3.8306918    9.29242483\n",
      "  10.67068011   9.60869784   7.59536707   5.56568219   3.93152313\n",
      "   2.77489847   2.02696566   1.57793471   1.32738967   1.19966045\n",
      "   1.14344064   1.1263241    1.12896418   1.14041405   1.15485323\n",
      "   1.1694512    1.18304201   1.19533552   1.20646696   1.21675263\n",
      "   1.22656809   1.23629884   1.24633514   1.25709863   1.26909937\n",
      "   1.28303256   1.29993433   1.32142428   1.3500605    1.38979051\n",
      "   1.44631529   1.5266717    1.63590055   1.76482429   1.8528954\n",
      "   1.68378654   0.60133546  -3.26352508 -15.19131464  61.05526475]\n",
      "\n",
      " n = 100 : \n",
      "[ -12.48676802  -46.42203837  -76.8464961  -100.28089485 -113.61091991\n",
      " -114.90666621 -104.14223487  -83.49726126  -57.00407761  -29.55566297\n",
      "   -5.60503094   11.92941669   22.13064152   25.82624948   24.85775633\n",
      "   21.27591531   16.7722614    12.44778794    8.84627752    6.11527768\n",
      "    4.18162043    2.88410634    2.05185174    1.53986292    1.23863645\n",
      "    1.07127276    0.98636283    0.95071808    0.94346149    0.95173203\n",
      "    0.96775928    0.98695128    1.00667649    1.02550038    1.04271103\n",
      "    1.05802598    1.07141131    1.08297048    1.09287629    1.10132985\n",
      "    1.10853622    1.11469074    1.11997181    1.12453789    1.12852679\n",
      "    1.1320566     1.13522729    1.13812268    1.14081259    1.14335485\n",
      "    1.14579724    1.1481792     1.15053335    1.15288681    1.15526235\n",
      "    1.1576793     1.16015442    1.16270255    1.16533715    1.16807087\n",
      "    1.17091587    1.17388424    1.1769883     1.1802409     1.18365567\n",
      "    1.18724734    1.19103197    1.19502731    1.19925307    1.20373137\n",
      "    1.20848713    1.21354864    1.21894822    1.22472304    1.23091625\n",
      "    1.23757842    1.24476962    1.25256254    1.26104713    1.27033817\n",
      "    1.28058769    1.29200599    1.30489775    1.31972442    1.33721163\n",
      "    1.3585322     1.38561031    1.42160686    1.471639      1.54369581\n",
      "    1.64936131    1.80287701    2.01405441    2.26247535    2.41930059\n",
      "    2.02786585   -0.29261866   -8.46867629  -33.58109452  130.49782858]\n"
     ]
    }
   ],
   "source": [
    "import numpy\n",
    "\n",
    "\n",
    "def genA(n: int):\n",
    "    ret = []\n",
    "    for i in range(n):\n",
    "        ret.append([])\n",
    "        current = ret[i]\n",
    "        for j in range(n):\n",
    "            if (i == j):\n",
    "                current.append(1)\n",
    "            elif (j < i):\n",
    "                current.append(-1)\n",
    "            elif (j == n-1):\n",
    "                current.append(1)\n",
    "            else:\n",
    "                current.append(0)\n",
    "\n",
    "    return ret\n",
    "\n",
    "\n",
    "def genB(n: int):\n",
    "    ret = []\n",
    "    for i in range(n-1):\n",
    "        ret.append(2-i)\n",
    "    ret.append(2-n)\n",
    "    return ret\n",
    "\n",
    "\n",
    "def householder(A: list):\n",
    "    matrices = []\n",
    "    for i in range(A.__len__()-1):\n",
    "        d = 0\n",
    "        for j in range(i, A.__len__()):\n",
    "            d += A[j][i]**2\n",
    "        alpha = -numpy.sign(A[i][i])*numpy.sqrt(d)\n",
    "        omega = A[i].copy()\n",
    "        for j in range(i):\n",
    "            omega[j] = 0\n",
    "        omega[i] -= alpha\n",
    "        beta = 1/(numpy.sqrt(d)*(numpy.sqrt(d)+numpy.abs(A[i][i])))\n",
    "        s = []\n",
    "        for x in range(omega.__len__()):\n",
    "            arr = []\n",
    "            s.append(arr)\n",
    "            for y in range(omega.__len__()):\n",
    "                arr.append(-beta*omega[x]*omega[y])\n",
    "                if (x == y):\n",
    "                    arr[x] += 1\n",
    "        A = numpy.matmul(A, s)\n",
    "        matrices.append(s)\n",
    "    Q = matrices[0]\n",
    "    for i in range(1, matrices.__len__()):\n",
    "        Q = numpy.matmul(Q, matrices[i])\n",
    "    return A, Q\n",
    "\n",
    "print(\"n = 10 : \")\n",
    "A10 = genA(10)\n",
    "b10 = genB(10)\n",
    "A10 = householder(A10)\n",
    "print(numpy.linalg.solve(numpy.matmul(A10[1], A10[0]), b10))\n",
    "\n",
    "print(\"\\n n = 50 : \")\n",
    "A50 = genA(50)\n",
    "b50 = genB(50)\n",
    "A50 = householder(A50)\n",
    "print(numpy.linalg.solve(numpy.matmul(A50[1], A50[0]), b50))\n",
    "\n",
    "print(\"\\n n = 100 : \")\n",
    "A100 = genA(100)\n",
    "b100 = genB(100)\n",
    "A100 = householder(A100)\n",
    "print(numpy.linalg.solve(numpy.matmul(A100[1], A100[0]), b100))"
   ]
  },
  {
   "cell_type": "code",
   "execution_count": 3,
   "outputs": [],
   "source": [],
   "metadata": {
    "collapsed": false,
    "ExecuteTime": {
     "start_time": "2023-05-03T09:06:08.332947Z",
     "end_time": "2023-05-03T09:06:08.348581Z"
    }
   }
  }
 ],
 "metadata": {
  "kernelspec": {
   "display_name": "Python 3",
   "language": "python",
   "name": "python3"
  },
  "language_info": {
   "codemirror_mode": {
    "name": "ipython",
    "version": 2
   },
   "file_extension": ".py",
   "mimetype": "text/x-python",
   "name": "python",
   "nbconvert_exporter": "python",
   "pygments_lexer": "ipython2",
   "version": "2.7.6"
  }
 },
 "nbformat": 4,
 "nbformat_minor": 0
}
