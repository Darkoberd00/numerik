{
 "cells": [
  {
   "cell_type": "markdown",
   "source": [
    "# Aufgabe 1:"
   ],
   "metadata": {
    "collapsed": false
   }
  },
  {
   "cell_type": "code",
   "execution_count": 15,
   "outputs": [
    {
     "name": "stdout",
     "output_type": "stream",
     "text": [
      "true value: 0.7853981633974483\n",
      "trapez value: 0.7847471236227722 \t\t error: 0.0006510397746760654\n",
      "simpson value: 0.6603921568627451 \t\t error: 0.12500600653470317\n",
      "g2 value: 0.7852670349907919 \t\t\t error: 0.00013112840665641112\n"
     ]
    }
   ],
   "source": [
    "import numpy\n",
    "import math\n",
    "from scipy.integrate import quad\n",
    "\n",
    "def trapez_integration(f, a, b, n_trapez):\n",
    "    h = (b - a) / n_trapez\n",
    "    s = 0.5 * (f(a) + f(b))\n",
    "    for i in range(1, n_trapez):\n",
    "        s += f(a + i * h)\n",
    "    return s * h\n",
    "\n",
    "\n",
    "def simpson_integration(f, a, b, n_simpson):\n",
    "    h = (b - a) / n_simpson\n",
    "    s = f(a) + f(b)\n",
    "    for i in range(1, n_simpson):\n",
    "        if i % 2 == 0:\n",
    "            s += 2 * f(a + i * h)\n",
    "        else:\n",
    "            s += 4 * f(a + i * h)\n",
    "    return (s - f(a) - f(b)) * (h / 3)\n",
    "\n",
    "\n",
    "def g2_integration(f, a, b):\n",
    "    xs = numpy.array([-math.sqrt(3/5), 0, math.sqrt(3/5)])\n",
    "    betas = numpy.array([5/9, 8/9, 5/9])\n",
    "    xs_ = (b-a)/2 * xs + (b+a)/2\n",
    "    betas_ = (b-a)/2 * betas\n",
    "    return numpy.sum(betas_ * f(xs_))\n",
    "\n",
    "\n",
    "true_value = math.pi/4\n",
    "trapez_value = trapez_integration(lambda x: 1 / (1+x**2), 0, 1, 8 )\n",
    "simpson_integration_value = simpson_integration(lambda x: 1 / (1+x**2), 0, 1, 4 )\n",
    "g2_integration_value = g2_integration(lambda x: 1 / (1+x**2), 0, 1)\n",
    "\n",
    "\n",
    "print(f\"\"\"true value: {true_value}\n",
    "trapez value: {trapez_value} \\t\\t error: {abs(true_value - trapez_value)}\n",
    "simpson value: {simpson_integration_value} \\t\\t error: {abs(true_value - simpson_integration_value)}\n",
    "g2 value: {g2_integration_value} \\t\\t\\t error: {abs(true_value - g2_integration_value)}\"\"\")\n",
    "\n"
   ],
   "metadata": {
    "collapsed": false,
    "ExecuteTime": {
     "end_time": "2023-06-14T15:00:20.968471900Z",
     "start_time": "2023-06-14T15:00:20.943542200Z"
    }
   }
  },
  {
   "cell_type": "markdown",
   "source": [
    "# Aufgabe 2:"
   ],
   "metadata": {
    "collapsed": false
   }
  },
  {
   "cell_type": "code",
   "execution_count": 16,
   "outputs": [
    {
     "name": "stdout",
     "output_type": "stream",
     "text": [
      "Ordnung: 2\n",
      "Romberg: 8.164311994315689e-17 Fehler: 1.0097091882273732\n",
      "Bulirsch: 2.4492935982947064e-16 Fehler: 1.009709188227373\n",
      "\n",
      "\n",
      "Ordnung: 4\n",
      "Romberg: 1.0056629776875345 Fehler: 0.004046210539838668\n",
      "Bulirsch: 8.164311994315689e-17 Fehler: 1.0097091882273732\n",
      "\n",
      "\n",
      "Ordnung: 6\n",
      "Romberg: 1.0250428245891272 Fehler: 0.015333636361754\n",
      "Bulirsch: 0.9234543869793054 Fehler: 0.08625480124806784\n",
      "\n",
      "\n",
      "Ordnung: 8\n",
      "Romberg: 1.0094933959681158 Fehler: 0.00021579225925738577\n",
      "Bulirsch: 1.1113597371695434 Fehler: 0.10165054894217018\n",
      "\n",
      "\n",
      "Ordnung: 10\n",
      "Romberg: 1.009707587534166 Fehler: 1.6006932073153735e-06\n",
      "Bulirsch: 1.0133666547251936 Fehler: 0.003657466497820394\n",
      "\n",
      "\n",
      "Ordnung: 12\n",
      "Romberg: 1.009709194162706 Fehler: 5.935332891837675e-09\n",
      "Bulirsch: 1.0077702756828084 Fehler: 0.001938912544564797\n",
      "\n",
      "\n",
      "Ordnung: 14\n",
      "Romberg: 1.0097091882270657 Fehler: 3.0753177782116836e-13\n",
      "Bulirsch: 1.0097161455084471 Fehler: 6.957281073916022e-06\n",
      "\n",
      "\n",
      "Ordnung: 16\n",
      "Romberg: 1.0097091882273725 Fehler: 6.661338147750939e-16\n",
      "Bulirsch: 1.0097134087695545 Fehler: 4.220542181299081e-06\n",
      "\n",
      "\n"
     ]
    }
   ],
   "source": [
    "def extrapolation_integration(f, a, b, sizes):\n",
    "    steps = sizes.shape[0]\n",
    "    ls = 1/sizes\n",
    "    ls = numpy.asarray(ls)\n",
    "    ts = numpy.array([trapez_integration(f, a, b, i) for i in sizes])\n",
    "    ps = numpy.zeros((steps, steps))\n",
    "    ps[:, 0] = ts\n",
    "    for i in range(1, steps):\n",
    "        for j in range(1, i+1):\n",
    "            ps[i, j] = ps[i, j-1] + (ps[i, j-1] - ps[i-1,j-1])/((ls[i-j]/ls[i])**2-1)\n",
    "    return ps[steps-1, steps-1]\n",
    "\n",
    "\n",
    "def romberg_integration(f, a, b, q):\n",
    "    ls = numpy.array([2**i for i in range(q+1)], dtype=int)\n",
    "    return extrapolation_integration(f, a, b, ls)\n",
    "\n",
    "\n",
    "def bulirsch_integration(f, a, b, q):\n",
    "    ls = [1]\n",
    "    if q > 1:\n",
    "        ls.append(2)\n",
    "    if q > 2:\n",
    "        ls.append(3)\n",
    "    if q > 3:\n",
    "        for i in range(3, q):\n",
    "            ls.append(ls[i-2]*2)\n",
    "    ls = numpy.array(ls)\n",
    "    return extrapolation_integration(f, a, b, ls)\n",
    "\n",
    "\n",
    "def f(x):\n",
    "    return math.sin(math.pi * x**2)\n",
    "\n",
    "true_value = quad(f, -1, 1)[0]\n",
    "\n",
    "for order in (2,4,6,8,10,12,14,16):\n",
    "    q = order//2\n",
    "    print(f\"Ordnung: {order}\")\n",
    "    print(f\"Romberg: {romberg_integration(f, -1, 1, q)} Fehler: {abs(true_value - romberg_integration(f, -1, 1, q))}\")\n",
    "    print(f\"Bulirsch: {bulirsch_integration(f, -1, 1, q)} Fehler: {abs(true_value - bulirsch_integration(f, -1, 1, q))}\")\n",
    "    print(\"\\n\")"
   ],
   "metadata": {
    "collapsed": false,
    "ExecuteTime": {
     "end_time": "2023-06-14T15:00:21.011814Z",
     "start_time": "2023-06-14T15:00:20.967437400Z"
    }
   }
  }
 ],
 "metadata": {
  "kernelspec": {
   "display_name": "Python 3",
   "language": "python",
   "name": "python3"
  },
  "language_info": {
   "codemirror_mode": {
    "name": "ipython",
    "version": 2
   },
   "file_extension": ".py",
   "mimetype": "text/x-python",
   "name": "python",
   "nbconvert_exporter": "python",
   "pygments_lexer": "ipython2",
   "version": "2.7.6"
  }
 },
 "nbformat": 4,
 "nbformat_minor": 0
}
