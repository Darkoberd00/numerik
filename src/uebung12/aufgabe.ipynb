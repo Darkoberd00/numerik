{
 "cells": [
  {
   "cell_type": "markdown",
   "source": [
    "# Aufgabe 2:"
   ],
   "metadata": {
    "collapsed": false
   }
  },
  {
   "cell_type": "code",
   "execution_count": 2,
   "outputs": [
    {
     "name": "stdout",
     "output_type": "stream",
     "text": [
      "Iterations: 112\n",
      "x_opt: [ 4.48123921 -1.47398533] \t\n",
      "Iterations: 104\n",
      "x_opt: [ 4.48120791 -1.47397536] \t\n",
      "Iterations: 12\n",
      "x_opt: [0.57869861 0.54691844] \t\n",
      "Iterations: 14\n",
      "x_opt: [0.57869216 0.54690597] \t\n"
     ]
    }
   ],
   "source": [
    "import numpy\n",
    "import math\n",
    "\n",
    "def f(x):\n",
    "    assert x.shape == (2,)\n",
    "    return (math.sin(x[0]) - x[1])**2 + (math.exp(-x[1]) - x[0])**2\n",
    "\n",
    "def f_deriv(x):\n",
    "    assert x.shape == (2,)\n",
    "    x_1 = math.cos(x[0]) * 2 * (math.sin(x[0]) - x[1]) - 2 * (math.exp(-x[1]) - x[0])\n",
    "    x_2 = -2 * (math.sin(x[0]) - x[1]) -2*math.exp(-x[1])*(math.exp(-x[1]) - x[0])\n",
    "    return numpy.array([x_1, x_2])\n",
    "\n",
    "\n",
    "def armijo(f, f_deriv, x_start, alpha=1, rho=0.5, tau=0.5, epsilon_deriv=1e-4, max_iter=1e3):\n",
    "    def lambda_func(x, p, rho, alpha):\n",
    "        return f(x) + (f_deriv(x)@p)*rho*alpha\n",
    "    def phi_func(x, p, alpha):\n",
    "        return f(x + alpha*p)\n",
    "    x = x_start\n",
    "    p = -f_deriv(x)\n",
    "    i=0\n",
    "    while numpy.max(numpy.abs(p)) > epsilon_deriv and i < max_iter:\n",
    "        i += 1\n",
    "        # alpha finden\n",
    "        alpha = 1\n",
    "        while phi_func(x, p, alpha) > lambda_func(x, p, rho, alpha):\n",
    "            alpha = tau*alpha\n",
    "        x = x + alpha*p\n",
    "        p = -f_deriv(x)\n",
    "    print(f'Iterations: {i}')\n",
    "    return x\n",
    "\n",
    "\n",
    "for x_0 in [(5,2), (6,2), (-1,-1), (-2, -2)]:\n",
    "    x_0 = numpy.array(x_0)\n",
    "    x_opt = armijo(f, f_deriv, x_0)\n",
    "    print(f'x_opt: {x_opt} \\t')\n"
   ],
   "metadata": {
    "collapsed": false,
    "ExecuteTime": {
     "end_time": "2023-06-21T13:12:29.919361Z",
     "start_time": "2023-06-21T13:12:29.889665600Z"
    }
   }
  }
 ],
 "metadata": {
  "kernelspec": {
   "display_name": "Python 3",
   "language": "python",
   "name": "python3"
  },
  "language_info": {
   "codemirror_mode": {
    "name": "ipython",
    "version": 2
   },
   "file_extension": ".py",
   "mimetype": "text/x-python",
   "name": "python",
   "nbconvert_exporter": "python",
   "pygments_lexer": "ipython2",
   "version": "2.7.6"
  }
 },
 "nbformat": 4,
 "nbformat_minor": 0
}
