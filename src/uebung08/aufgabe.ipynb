{
 "cells": [
  {
   "cell_type": "markdown",
   "source": [
    "# Aufgabe 1:"
   ],
   "metadata": {
    "collapsed": false
   }
  },
  {
   "cell_type": "code",
   "execution_count": 12,
   "outputs": [
    {
     "name": "stdout",
     "output_type": "stream",
     "text": [
      "\n",
      "Sekanten: x=2069.4822452013523, f(x)=8.999999999999995, iterations=9\n",
      "Newton: x=2069.4822452013527, f(x)=9.000000000000005, iterations=6\n",
      "\n",
      "4.76 µs ± 134 ns per loop (mean ± std. dev. of 7 runs, 100,000 loops each)\n",
      "5.86 µs ± 62.4 ns per loop (mean ± std. dev. of 7 runs, 100,000 loops each)\n"
     ]
    }
   ],
   "source": [
    "import math\n",
    "\n",
    "def newton(f, f_deriv, x, epsilon=1e-12):\n",
    "    x_prev = float('inf')\n",
    "    f_x = f(x)\n",
    "    i=0\n",
    "    while abs(x-x_prev) > epsilon and abs(f_x) > epsilon:\n",
    "        i+=1\n",
    "        x_prev = x\n",
    "        f_x = f(x)\n",
    "        x = x - f_x / f_deriv(x)\n",
    "    return x, i\n",
    "\n",
    "def sekanten(f, x_prev, x_next, epsilon=1e-12):\n",
    "    f_prev = f(x_prev)\n",
    "    i=0\n",
    "    while abs(x_next-x_prev) > epsilon and abs(f_prev) > epsilon:\n",
    "        i+=1\n",
    "        f_next = f(x_next)\n",
    "        x_next, x_prev = x_next - f_next * (x_next - x_prev) / (f_next - f_prev), x_next\n",
    "        f_prev = f_next\n",
    "    return x_next, i\n",
    "\n",
    "\n",
    "def pop(x):\n",
    "    a = 9.8606\n",
    "    c = -1.1085e25\n",
    "    d = 0.029\n",
    "    return a / (1-c*math.exp(-d * x))\n",
    "\n",
    "def pop_deriv(x):\n",
    "    a = 9.8606\n",
    "    c = -1.1085e25\n",
    "    d = 0.029\n",
    "    exp = math.exp(-d * x)\n",
    "    return -a * c * d * exp * (1-c * exp)**-2\n",
    "\n",
    "\n",
    "x_sek, i_sek = sekanten(lambda x: pop(x) - 9, 1961, 2000, epsilon=1.1e-14)\n",
    "x_nwt, i_nwt = newton(lambda x: pop(x) - 9, pop_deriv, 1961, epsilon=1.1e-14)\n",
    "print(\n",
    "f\"\"\"\n",
    "Sekanten: x={x_sek}, f(x)={pop(x_sek)}, iterations={i_sek}\n",
    "Newton: x={x_nwt}, f(x)={pop(x_nwt)}, iterations={i_nwt}\n",
    "\"\"\"\n",
    ")\n",
    "%timeit sekanten(lambda x: pop(x) - 9, 1961, 2000, epsilon=1.1e-14)\n",
    "%timeit newton(lambda x: pop(x) - 9, pop_deriv, 1961, epsilon=1.1e-14)"
   ],
   "metadata": {
    "collapsed": false
   }
  },
  {
   "cell_type": "markdown",
   "source": [
    "# Auswertung:\n",
    "Mit dem Newton-Verfahren werden zwar nur 6 Iteration durch geführt, jedoch entspricht eine Interation 2 Funktionsauswertungen.\n",
    "Dadurch ist das Sekanten-Verfahren mit nur 10 Funktionsauswertungen im gegensatz zum Newton-Verfahren etwas schneller (Siehe letzten beiden Zeilen Code Ausgabe)"
   ],
   "metadata": {
    "collapsed": false
   }
  },
  {
   "cell_type": "markdown",
   "source": [
    "# Aufgabe 2:\n",
    "Aufgabe a) & b) siehe PDF"
   ],
   "metadata": {
    "collapsed": false
   }
  },
  {
   "cell_type": "code",
   "execution_count": 13,
   "outputs": [
    {
     "name": "stdout",
     "output_type": "stream",
     "text": [
      "\n",
      "Newton: x=1.5571455989976113, f(x)=-2.220446049250313e-16, iterations=4\n",
      "\n"
     ]
    }
   ],
   "source": [
    "#aufgabe 2 c)\n",
    "\n",
    "def a_posteriori_error(x_prev, x, alpha):\n",
    "    alpha = 0.25\n",
    "    return alpha/(1-alpha) * abs(x - x_prev)\n",
    "\n",
    "def newton_apost(f, f_deriv, x, a_post, epsilon):\n",
    "    x_prev = float('inf')\n",
    "    f_x = f(x)\n",
    "    i=0\n",
    "    while a_post(x_prev, x) > epsilon:\n",
    "        i+=1\n",
    "        x_prev = x\n",
    "        f_x = f(x)\n",
    "        x = x - f_x / f_deriv(x)\n",
    "    return x, i\n",
    "\n",
    "def f(x):\n",
    "    return x + math.log(x) - 2\n",
    "\n",
    "def f_deriv(x):\n",
    "    return 1 + 1/x\n",
    "\n",
    "x_nwt, i_nwt = newton_apost(f, f_deriv, 1, lambda x_prev, x: a_posteriori_error(x_prev, x, 0.25), epsilon=1e-6)\n",
    "print(\n",
    "f\"\"\"\n",
    "Newton: x={x_nwt}, f(x)={f(x_nwt)}, iterations={i_nwt}\n",
    "\"\"\"\n",
    ")"
   ],
   "metadata": {
    "collapsed": false
   }
  },
  {
   "cell_type": "markdown",
   "source": [
    "# Aufgabe 3:\n",
    "Aufgabe a) siehe PDF"
   ],
   "metadata": {
    "collapsed": false
   }
  },
  {
   "cell_type": "code",
   "execution_count": 14,
   "outputs": [
    {
     "name": "stdout",
     "output_type": "stream",
     "text": [
      "\n",
      "Newton: x=0.0001548572329641409, f(x)=-1.2378648182442137e-12, iterations=21\n",
      "Newton_q: x=-7.277094315071523e-11, f(x)=0.0, iterations=4\n",
      "Newton_g: x=3.2976151174055036e-10, f(x)=0.0, iterations=4\n",
      "\n"
     ]
    }
   ],
   "source": [
    "#Aufgabe 3 b)\n",
    "\n",
    "def newton(f, f_deriv, x, epsilon=1e-12):\n",
    "    x_prev = float('inf')\n",
    "    f_x = f(x)\n",
    "    i=0\n",
    "    while abs(x-x_prev) > epsilon and abs(f_x) > epsilon:\n",
    "        i+=1\n",
    "        x_prev = x\n",
    "        f_x = f(x)\n",
    "        x = x - f_x / f_deriv(x)\n",
    "    return x, i\n",
    "\n",
    "def newton_q(f, f_deriv, x, q, epsilon):\n",
    "    x_prev = float('inf')\n",
    "    f_x = f(x)\n",
    "    i=0\n",
    "    while abs(x-x_prev) > epsilon and abs(f_x) > epsilon:\n",
    "        i+=1\n",
    "        x_prev = x\n",
    "        f_x = f(x)\n",
    "        x = x - q * f_x / f_deriv(x)\n",
    "    return x, i\n",
    "\n",
    "\n",
    "def newton_g(f, f_deriv, f_2deriv, x, epsilon):\n",
    "    x_prev = float('inf')\n",
    "    f_x = f(x)\n",
    "    i=0\n",
    "    while abs(x-x_prev) > epsilon and abs(f_x) > epsilon:\n",
    "        i+=1\n",
    "        x_prev = x\n",
    "        f_x = f(x)\n",
    "        f_deriv_x = f_deriv(x)\n",
    "        f_2deriv_x = f_2deriv(x)\n",
    "        x = x - (f_x * f_deriv_x)/(f_deriv_x**2 - f_x * f_2deriv_x)\n",
    "    return x, i\n",
    "\n",
    "\n",
    "def f(x):\n",
    "    return math.atan(x) - x\n",
    "\n",
    "def f_deriv(x):\n",
    "    return 1/(1+x**2) - 1\n",
    "\n",
    "def f_2deriv(x):\n",
    "    return -2*x/(1+x**2)**2\n",
    "\n",
    "x_nwt_q, i_nwt_q = newton_q(f, f_deriv, 1, 3, epsilon=1e-11) # q = 3, da 0 dreifache Nullstelle\n",
    "x_nwt, i_nwt = newton(f, f_deriv, 1, epsilon=1e-11)\n",
    "x_nwt_g, i_nwt_g = newton_g(f, f_deriv, f_2deriv, 1, epsilon=1e-11)\n",
    "\n",
    "print(\n",
    "f\"\"\"\n",
    "Newton: x={x_nwt}, f(x)={f(x_nwt)}, iterations={i_nwt}\n",
    "Newton_q: x={x_nwt_q}, f(x)={f(x_nwt_q)}, iterations={i_nwt_q}\n",
    "Newton_g: x={x_nwt_g}, f(x)={f(x_nwt_g)}, iterations={i_nwt_g}\n",
    "\"\"\"\n",
    ")"
   ],
   "metadata": {
    "collapsed": false
   }
  },
  {
   "cell_type": "markdown",
   "source": [
    "# Aufgabe 5:"
   ],
   "metadata": {
    "collapsed": false
   }
  },
  {
   "cell_type": "code",
   "execution_count": 18,
   "outputs": [
    {
     "name": "stdout",
     "output_type": "stream",
     "text": [
      "\n",
      "Newton: x=[0.57871364 0.54694749], f(x)=[-9.99200722e-16  4.44089210e-16], iterations=4\n",
      "\n"
     ]
    }
   ],
   "source": [
    "import numpy\n",
    "def J(x):\n",
    "    x, y = x[0], x[1]\n",
    "    return numpy.array([[math.cos(x), -1], [-1, -math.exp(-y)]])\n",
    "\n",
    "def f(x):\n",
    "    x, y = x[0], x[1]\n",
    "    return numpy.array([math.sin(x) - y, math.exp(-y) -x])\n",
    "\n",
    "\n",
    "def newton_n_dim(f, J, x, epsilon):\n",
    "    x_prev = numpy.full(x.shape, float('inf'))\n",
    "    f_x = f(x)\n",
    "    i=0\n",
    "    while numpy.linalg.norm(x-x_prev) > epsilon and numpy.linalg.norm(f_x) > epsilon:\n",
    "        i+=1\n",
    "        x_prev = x\n",
    "        f_x = f(x)\n",
    "        x = x - numpy.linalg.solve(J(x), f_x)\n",
    "    return x, i\n",
    "\n",
    "x_nwt_n_dim, i_nwt_n_dim = newton_n_dim(f, J, numpy.array([1, 1]), epsilon=1e-6)\n",
    "print(\n",
    "f\"\"\"\n",
    "Newton: x={x_nwt_n_dim}, f(x)={f(x_nwt_n_dim)}, iterations={i_nwt_n_dim}\n",
    "\"\"\"\n",
    ")"
   ],
   "metadata": {
    "collapsed": false
   }
  }
 ],
 "metadata": {
  "kernelspec": {
   "display_name": "Python 3",
   "language": "python",
   "name": "python3"
  },
  "language_info": {
   "codemirror_mode": {
    "name": "ipython",
    "version": 2
   },
   "file_extension": ".py",
   "mimetype": "text/x-python",
   "name": "python",
   "nbconvert_exporter": "python",
   "pygments_lexer": "ipython2",
   "version": "2.7.6"
  }
 },
 "nbformat": 4,
 "nbformat_minor": 0
}
